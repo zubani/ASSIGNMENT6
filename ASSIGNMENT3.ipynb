{
 "cells": [
  {
   "cell_type": "code",
   "execution_count": 1,
   "id": "2fcf5d7e-7085-437f-b44f-d0a9f9dd4da0",
   "metadata": {},
   "outputs": [
    {
     "name": "stdout",
     "output_type": "stream",
     "text": [
      "[2, 4, 6, 8, 10, 12, 14, 16, 18, 20, 22, 24]\n"
     ]
    }
   ],
   "source": [
    "#which key word is used to create a function ?create a function to return a list odd number in the range of 1to25\n",
    "#def keyword is used to create a function\n",
    "l=[1,2,3,4,5,6,7,8,9,10,11,12,13,14,15,16,17,18,19,20,21,22,23,24,25]\n",
    "list(filter(lambda x:x%2==0,l))\n",
    "print(list(filter(lambda x:x%2==0,l)))"
   ]
  },
  {
   "cell_type": "code",
   "execution_count": 2,
   "id": "69ce1090-832e-44c8-9474-616f0b04a121",
   "metadata": {},
   "outputs": [
    {
     "name": "stdout",
     "output_type": "stream",
     "text": [
      "(1, 2, 3, 4, 5)\n",
      "{'name': 'komal', 'age': 45}\n"
     ]
    }
   ],
   "source": [
    "#why *args and **kwargs is used in some function ?create a function each for *args and **kwargs to demonstrate their use\n",
    "#The *args syntax in Python allows a function to accept a variable number of positional arguments. It allows you to pass any number of arguments to a function without explicitly specifying them.\n",
    "def key1(*args):\n",
    "    return args\n",
    "print(key1(1,2,3,4,5))\n",
    "#kwargs is used for dictionary like i have define key 2 as a function that accepts keyword arguments (kwargs). It returns the kwargs dictionary.\n",
    "def key2(**kwargs):\n",
    "    return kwargs\n",
    "print(key2(name=\"komal\",age=45,))"
   ]
  },
  {
   "cell_type": "code",
   "execution_count": 4,
   "id": "e051e063-394b-4de7-a202-6c0d3f4c5dbb",
   "metadata": {},
   "outputs": [
    {
     "name": "stdout",
     "output_type": "stream",
     "text": [
      "<class 'list_iterator'>\n",
      "2\n",
      "4\n",
      "6\n",
      "8\n",
      "10\n",
      "12\n"
     ]
    }
   ],
   "source": [
    "#what is iterator in python ? name the method used to initialize the iterator object and the method used for iteration.use\n",
    "#these method to print the first five elements of given list [2,4,6,8,10,12,14,16,18,20]\n",
    "#an iterator is an object that implements the iterator protocol, which consists of two methods: __iter__() and __next__(). Iterators are used to traverse or iterate over a sequence of elements, such as a list, tuple, or string, in a sequential manner.\n",
    "\n",
    "\n",
    "l2=[2,4,6,8,10,12,14,16,18,20]\n",
    "#for i in l2:\n",
    "    #print(i)\n",
    "f=iter(l2)\n",
    "print(type(f))\n",
    "m=next(f)\n",
    "print(m)\n",
    "n=next(f)\n",
    "print(n)\n",
    "o=next(f)\n",
    "print(o)\n",
    "v=next(f)\n",
    "print(v)\n",
    "j=next(f)\n",
    "print(j)\n",
    "k=next(f)\n",
    "print(k)"
   ]
  },
  {
   "cell_type": "code",
   "execution_count": 5,
   "id": "47a2b86b-bdf3-4e4f-a72b-98cd0f7497a3",
   "metadata": {},
   "outputs": [
    {
     "name": "stdout",
     "output_type": "stream",
     "text": [
      "2\n",
      "4\n",
      "6\n",
      "8\n"
     ]
    }
   ],
   "source": [
    "#what is genertor function in python ? why yield keyword is used ?give an example of generator function\n",
    "#a generator function is a special type of function that returns an iterator object. It generates values on-the-fly instead of returning them all at once like a regular function. The generator function is defined using the yield keyword instead of the return keyword\n",
    "#The use of the yield keyword allows generators to produce values lazily, only when needed. This can be memory-efficient since it avoids generating and storing the entire sequence of values upfront. Generators are particularly useful for working with large datasets or infinite sequences.\n",
    "\n",
    "#Additionally, because generators can be paused and resumed, they can be more efficient than returning a full list or sequence of values. They can generate and process data incrementally, reducing memory usage and improving performance in certain scenarios.\n",
    "\n",
    "\n",
    "#Overall, generator functions and the yield keyword provide a powerful tool for creating iterable objects that generate values dynamically and efficiently.\n",
    "def count_test(n):\n",
    "    count=2\n",
    "    while count<n:\n",
    "        yield count\n",
    "        count = count+2\n",
    "c=count_test(10)\n",
    "for i in c:\n",
    "    print(i)"
   ]
  },
  {
   "cell_type": "code",
   "execution_count": 6,
   "id": "04f5af0b-1447-4ce9-93d7-b6c055b3b093",
   "metadata": {},
   "outputs": [
    {
     "name": "stdout",
     "output_type": "stream",
     "text": [
      "2\n",
      "3\n",
      "5\n",
      "7\n",
      "11\n",
      "13\n",
      "17\n",
      "19\n",
      "23\n",
      "29\n",
      "31\n",
      "37\n",
      "41\n",
      "43\n",
      "47\n",
      "53\n",
      "59\n",
      "61\n",
      "67\n",
      "71\n"
     ]
    }
   ],
   "source": [
    "#create a generator function for prime numbers less then 1000 .use the next() method to print the first 20 prime numbers\n",
    "\n",
    "def prime_generator():\n",
    "    primes = []\n",
    "    num = 2\n",
    "\n",
    "    while num < 1000:\n",
    "        is_prime = True\n",
    "\n",
    "        for prime in primes:\n",
    "            if num % prime == 0:\n",
    "                is_prime = False\n",
    "                break\n",
    "\n",
    "        if is_prime:\n",
    "            primes.append(num)\n",
    "            yield num\n",
    "\n",
    "        num += 1\n",
    "\n",
    "\n",
    "generator = prime_generator()\n",
    "\n",
    "for _ in range(20):\n",
    "    prime = next(generator)\n",
    "    print(prime)\n"
   ]
  },
  {
   "cell_type": "code",
   "execution_count": 7,
   "id": "820d8949-6239-44bf-a8dc-2a7a83c3db1e",
   "metadata": {},
   "outputs": [
    {
     "name": "stdout",
     "output_type": "stream",
     "text": [
      "0\n",
      "1\n",
      "1\n",
      "2\n",
      "3\n",
      "5\n",
      "8\n",
      "13\n",
      "21\n",
      "34\n"
     ]
    }
   ],
   "source": [
    "#write a python  programme to print the first 10 fibonacci numbers uning while loop\n",
    "def test_fib1():\n",
    "    a,b=0,1\n",
    "    while True:\n",
    "        yield a\n",
    "        a,b=b,a+b\n",
    "\n",
    "fib=test_fib1()\n",
    "for i in range(10):\n",
    "    print(next(fib))"
   ]
  },
  {
   "cell_type": "code",
   "execution_count": 8,
   "id": "0f13c3e1-d4fe-4f17-aa1a-489134b63e18",
   "metadata": {},
   "outputs": [
    {
     "name": "stdout",
     "output_type": "stream",
     "text": [
      "['p', 'w', 's', 'k', 'i', 'l', 'l', 's']\n"
     ]
    }
   ],
   "source": [
    "#write a list comorehension to itereate through the given string 'pwskills' as excepted output\n",
    "s=\"pwskills\"\n",
    "a=list(filter(lambda s:s.upper(),s))\n",
    "print(a)"
   ]
  },
  {
   "cell_type": "code",
   "execution_count": 9,
   "id": "19c6b0da-f7f7-4b26-8d5b-4c92ed8330d2",
   "metadata": {},
   "outputs": [
    {
     "name": "stdin",
     "output_type": "stream",
     "text": [
      " 56\n"
     ]
    },
    {
     "name": "stdout",
     "output_type": "stream",
     "text": [
      "number is not pallindrome\n"
     ]
    }
   ],
   "source": [
    "#write a python programme to check wheather a given number is pallindrome or not using a while loop\n",
    "number=int(input())\n",
    "temp=number\n",
    "reverse=0\n",
    "while (number>0):\n",
    "    dig=number%10\n",
    "    reverse=reverse%10+dig\n",
    "    number=number//10\n",
    "if temp==reverse:\n",
    "    print('number is pallindrome')\n",
    "else:\n",
    "    print('number is not pallindrome')\n",
    "\n"
   ]
  },
  {
   "cell_type": "code",
   "execution_count": 10,
   "id": "fbeb1838-a5cd-406c-aaef-63dd6d7ecfdc",
   "metadata": {},
   "outputs": [
    {
     "name": "stdout",
     "output_type": "stream",
     "text": [
      "[1, 3, 5, 7, 9, 11, 13, 15, 17, 19, 21, 23, 25, 27, 29, 31, 33, 35, 37, 39, 41, 43, 45, 47, 49, 51, 53, 55, 57, 59, 61, 63, 65, 67, 69, 71, 73, 75, 77, 79, 81, 83, 85, 87, 89, 91, 93, 95, 97, 99]\n"
     ]
    }
   ],
   "source": [
    "#write a code to print odd numbers from 1 to 100 using list comprehension\n",
    "odd_number=[i for i in range(1,101) if i%2!=0]\n",
    "print(odd_number)"
   ]
  },
  {
   "cell_type": "code",
   "execution_count": null,
   "id": "ea5a0af9-b074-4cd8-858a-58e03abdd824",
   "metadata": {},
   "outputs": [],
   "source": []
  },
  {
   "cell_type": "code",
   "execution_count": null,
   "id": "d8ab36b3-a984-4b97-a8ff-f9a2bdb46265",
   "metadata": {},
   "outputs": [],
   "source": []
  },
  {
   "cell_type": "code",
   "execution_count": null,
   "id": "71816d33-4a66-4bba-83d8-bb538362edf9",
   "metadata": {},
   "outputs": [],
   "source": []
  },
  {
   "cell_type": "code",
   "execution_count": null,
   "id": "e4bf733f-7bb0-426e-855f-311bc55f1aea",
   "metadata": {},
   "outputs": [],
   "source": []
  },
  {
   "cell_type": "code",
   "execution_count": null,
   "id": "26cb739f-2030-4a30-9330-7ed691ac8ee5",
   "metadata": {},
   "outputs": [],
   "source": []
  },
  {
   "cell_type": "code",
   "execution_count": null,
   "id": "5808a269-7b8b-41fe-8cca-e2af50e17250",
   "metadata": {},
   "outputs": [],
   "source": []
  },
  {
   "cell_type": "code",
   "execution_count": null,
   "id": "8ed64ee7-4332-4082-8452-64144ca31802",
   "metadata": {},
   "outputs": [],
   "source": []
  },
  {
   "cell_type": "code",
   "execution_count": null,
   "id": "3cd64829-63ff-49d6-b09f-66cec013ba46",
   "metadata": {},
   "outputs": [],
   "source": []
  },
  {
   "cell_type": "code",
   "execution_count": null,
   "id": "99dcb148-dc0f-477e-af55-4efdf40eaf65",
   "metadata": {},
   "outputs": [],
   "source": []
  },
  {
   "cell_type": "code",
   "execution_count": null,
   "id": "d9036f3c-8562-4232-ab9f-4180113c04d5",
   "metadata": {},
   "outputs": [],
   "source": []
  },
  {
   "cell_type": "code",
   "execution_count": null,
   "id": "4976abe8-7784-4ceb-836f-792699cd0a93",
   "metadata": {},
   "outputs": [],
   "source": []
  },
  {
   "cell_type": "code",
   "execution_count": null,
   "id": "b255a6cc-a2e9-4fe4-9d27-ee7dd0d2eca8",
   "metadata": {},
   "outputs": [],
   "source": []
  },
  {
   "cell_type": "code",
   "execution_count": null,
   "id": "d7f5bd99-08cf-4e21-a9bb-5f8549c2418c",
   "metadata": {},
   "outputs": [],
   "source": []
  }
 ],
 "metadata": {
  "kernelspec": {
   "display_name": "Python 3 (ipykernel)",
   "language": "python",
   "name": "python3"
  },
  "language_info": {
   "codemirror_mode": {
    "name": "ipython",
    "version": 3
   },
   "file_extension": ".py",
   "mimetype": "text/x-python",
   "name": "python",
   "nbconvert_exporter": "python",
   "pygments_lexer": "ipython3",
   "version": "3.10.8"
  }
 },
 "nbformat": 4,
 "nbformat_minor": 5
}
